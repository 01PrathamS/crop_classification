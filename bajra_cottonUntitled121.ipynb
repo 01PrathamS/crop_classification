{
  "cells": [
    {
      "cell_type": "markdown",
      "metadata": {
        "id": "view-in-github",
        "colab_type": "text"
      },
      "source": [
        "<a href=\"https://colab.research.google.com/github/01PrathamS/crop_classification/blob/main/bajra_cottonUntitled121.ipynb\" target=\"_parent\"><img src=\"https://colab.research.google.com/assets/colab-badge.svg\" alt=\"Open In Colab\"/></a>"
      ]
    },
    {
      "cell_type": "code",
      "source": [],
      "metadata": {
        "id": "Yo3ACF85rE1i"
      },
      "execution_count": 4,
      "outputs": []
    },
    {
      "cell_type": "code",
      "execution_count": 5,
      "metadata": {
        "id": "feYF94AoztEt"
      },
      "outputs": [],
      "source": [
        "import os\n",
        "import cv2\n",
        "import numpy as np\n",
        "import tensorflow as tf"
      ]
    },
    {
      "cell_type": "code",
      "execution_count": 6,
      "metadata": {
        "id": "46byRDes1CDb"
      },
      "outputs": [],
      "source": [
        "class_names = ['bajra', 'castor', 'cotton', 'groundnut', 'paddy', 'sugarcane', 'wheat']\n",
        "dict = {class_name : i for i, class_name in enumerate(class_names)}\n",
        "new_dict = { value : key for key, value in dict.items()}\n"
      ]
    },
    {
      "cell_type": "code",
      "execution_count": 7,
      "metadata": {
        "id": "af5gNnTk21JV"
      },
      "outputs": [],
      "source": [
        "\n",
        "\n",
        "\n",
        "def load_data(dir):\n",
        "  category = ['train', 'test']\n",
        "  output = []\n",
        "  for cat in category:\n",
        "    path = os.path.join(dir, cat)\n",
        "    images = []\n",
        "    labels = []\n",
        "    print('loading {}'.format(cat))\n",
        "    for folder in os.listdir(path):\n",
        "      label = dict[folder]\n",
        "      for file in os.listdir(os.path.join(path, folder)):\n",
        "        img_path = os.path.join(os.path.join(path, folder), file)\n",
        "        image = cv2.imread(img_path)\n",
        "        image = cv2.cvtColor(image, cv2.COLOR_BGR2RGB)\n",
        "        image = cv2.resize(image,(256,256))\n",
        "        images.append(image)\n",
        "        labels.append(label)\n",
        "    images = np.array(images, dtype='float32')\n",
        "    labels = np.array(labels, dtype='int32')\n",
        "    output.append((images, labels))\n",
        "  return output\n",
        "\n"
      ]
    },
    {
      "cell_type": "code",
      "execution_count": 8,
      "metadata": {
        "colab": {
          "base_uri": "https://localhost:8080/"
        },
        "id": "dRdjolq43ZmT",
        "outputId": "2611eb00-582d-4dc6-efb8-3f67b5b660e1"
      },
      "outputs": [
        {
          "output_type": "stream",
          "name": "stdout",
          "text": [
            "loading train\n",
            "loading test\n"
          ]
        }
      ],
      "source": [
        "(train_images, train_labels), (test_images, test_labels) = load_data('/content/drive/MyDrive/data')"
      ]
    },
    {
      "cell_type": "code",
      "execution_count": 9,
      "metadata": {
        "colab": {
          "base_uri": "https://localhost:8080/"
        },
        "id": "SRgCVPR52cUH",
        "outputId": "56a86449-82b2-40ea-80f2-30881b92d24f"
      },
      "outputs": [
        {
          "output_type": "execute_result",
          "data": {
            "text/plain": [
              "(7488, 7488, 1874, 1874)"
            ]
          },
          "metadata": {},
          "execution_count": 9
        }
      ],
      "source": [
        "len(train_images), len(train_labels), len(test_images), len(test_labels)"
      ]
    },
    {
      "cell_type": "code",
      "execution_count": 10,
      "metadata": {
        "id": "GsCX60TzgXGi"
      },
      "outputs": [],
      "source": [
        "model = tf.keras.Sequential([\n",
        "    tf.keras.layers.Conv2D(32, (3, 3), activation = 'relu', input_shape = (256, 256, 3)),\n",
        "    tf.keras.layers.MaxPooling2D(2, 2),\n",
        "    tf.keras.layers.Conv2D(32, (3,3), activation='relu'),\n",
        "    tf.keras.layers.MaxPooling2D(2,2),\n",
        "    tf.keras.layers.Flatten(),\n",
        "    tf.keras.layers.Dense(128, activation=tf.nn.relu),\n",
        "    tf.keras.layers.Dense(128, activation=tf.nn.relu),\n",
        "    tf.keras.layers.Dense(6, activation=tf.nn.softmax)\n",
        "])"
      ]
    },
    {
      "cell_type": "code",
      "execution_count": 11,
      "metadata": {
        "id": "71sUD_vHia1-"
      },
      "outputs": [],
      "source": [
        "model.compile(optimizer='adam',\n",
        "              loss='sparse_categorical_crossentropy',\n",
        "              metrics=['accuracy'])"
      ]
    },
    {
      "cell_type": "code",
      "execution_count": null,
      "metadata": {
        "id": "3h_SOSpdipuZ"
      },
      "outputs": [],
      "source": [
        "%timeit\n",
        "\n",
        "history = model.fit(train_images, train_labels, batch_size=128, epochs=4, validation_split=0.2)"
      ]
    },
    {
      "cell_type": "code",
      "source": [],
      "metadata": {
        "id": "p-2ahxedokLl"
      },
      "execution_count": null,
      "outputs": []
    }
  ],
  "metadata": {
    "accelerator": "GPU",
    "colab": {
      "provenance": [],
      "gpuType": "T4",
      "mount_file_id": "15dWUCQWiBM9d5W7pH5c0A2si5IHcQejD",
      "authorship_tag": "ABX9TyOs0bosqALpXfegv4fddN8Y",
      "include_colab_link": true
    },
    "kernelspec": {
      "display_name": "Python 3",
      "name": "python3"
    },
    "language_info": {
      "name": "python"
    }
  },
  "nbformat": 4,
  "nbformat_minor": 0
}